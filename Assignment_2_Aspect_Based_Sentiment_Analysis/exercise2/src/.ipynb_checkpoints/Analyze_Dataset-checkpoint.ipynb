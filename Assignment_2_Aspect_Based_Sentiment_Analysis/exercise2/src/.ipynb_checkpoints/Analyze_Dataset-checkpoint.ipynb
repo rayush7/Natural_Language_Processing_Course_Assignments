{
 "cells": [
  {
   "cell_type": "code",
   "execution_count": 1,
   "metadata": {},
   "outputs": [],
   "source": [
    "import numpy as np\n",
    "import pandas as pd"
   ]
  },
  {
   "cell_type": "code",
   "execution_count": 2,
   "metadata": {},
   "outputs": [],
   "source": [
    "train_dataset = '/home/ayush/Graduate_Study/Natural_Language_Processing_Course/Assignment_2/exercise2/data/traindata.csv'\n",
    "dev_dataset = '/home/ayush/Graduate_Study/Natural_Language_Processing_Course/Assignment_2/exercise2/data/devdata.csv'"
   ]
  },
  {
   "cell_type": "code",
   "execution_count": 3,
   "metadata": {},
   "outputs": [],
   "source": [
    "col_names = ['Polarity','Aspect_Category','Specific_Target_Term','Character_Offset','Sentence']\n",
    "train_df = pd.read_csv(train_dataset,sep='\\t',names=col_names)\n",
    "dev_df = pd.read_csv(dev_dataset,sep='\\t',names=col_names)"
   ]
  },
  {
   "cell_type": "code",
   "execution_count": 4,
   "metadata": {},
   "outputs": [
    {
     "name": "stdout",
     "output_type": "stream",
     "text": [
      "Train Data Shape:  (1503, 5)\n",
      "Dev Data Shape:  (376, 5)\n"
     ]
    }
   ],
   "source": [
    "print('Train Data Shape: ',train_df.shape)\n",
    "print('Dev Data Shape: ',dev_df.shape)"
   ]
  },
  {
   "cell_type": "code",
   "execution_count": 8,
   "metadata": {},
   "outputs": [
    {
     "name": "stdout",
     "output_type": "stream",
     "text": [
      "    Polarity           Aspect_Category   Specific_Target_Term  \\\n",
      "0   positive          AMBIENCE#GENERAL                seating   \n",
      "1   positive          AMBIENCE#GENERAL              trattoria   \n",
      "2   positive              FOOD#QUALITY                   food   \n",
      "3   negative           SERVICE#GENERAL                  STAFF   \n",
      "4   positive        FOOD#STYLE_OPTIONS                   menu   \n",
      "5   positive              FOOD#QUALITY                   tuna   \n",
      "6   negative           SERVICE#GENERAL                  staff   \n",
      "7   negative           SERVICE#GENERAL                service   \n",
      "8   positive        FOOD#STYLE_OPTIONS               BBQ ribs   \n",
      "9   positive          AMBIENCE#GENERAL                  place   \n",
      "10  negative              FOOD#QUALITY    appetizer of olives   \n",
      "11  negative              FOOD#QUALITY                  foods   \n",
      "12  positive            DRINKS#QUALITY                 drinks   \n",
      "13  positive              FOOD#QUALITY                  rolls   \n",
      "14  positive              FOOD#QUALITY         Prix Fixe menu   \n",
      "15  positive              FOOD#QUALITY               scallops   \n",
      "16  positive          AMBIENCE#GENERAL               Ambience   \n",
      "17  positive          AMBIENCE#GENERAL  late night atmosphere   \n",
      "18  positive              FOOD#QUALITY             pear torte   \n",
      "19  positive              FOOD#QUALITY   spicy Italian cheese   \n",
      "20  positive              FOOD#QUALITY                  filet   \n",
      "21  negative              FOOD#QUALITY             quesadilla   \n",
      "22  negative  RESTAURANT#MISCELLANEOUS                  place   \n",
      "23  positive              FOOD#QUALITY                   food   \n",
      "24  positive           SERVICE#GENERAL                Service   \n",
      "25  positive              FOOD#QUALITY                 bagels   \n",
      "26  negative        RESTAURANT#GENERAL             restaurant   \n",
      "27  positive              FOOD#QUALITY           french fries   \n",
      "28  positive              FOOD#QUALITY            rice dishes   \n",
      "29  positive          AMBIENCE#GENERAL               ambience   \n",
      "\n",
      "   Character_Offset                                           Sentence  \n",
      "0             18:25  short and sweet – seating is great:it's romant...  \n",
      "1             25:34  This quaint and romantic trattoria is at the t...  \n",
      "2            98:102  The have over 100 different beers to offer thi...  \n",
      "3              5:10                        THIS STAFF SHOULD BE FIRED.  \n",
      "4               4:8  The menu looked great, and the waiter was very...  \n",
      "5               4:8        The tuna and wasabe potatoes are excellent.  \n",
      "6             82:87  The whole set up is truly unprofessional and I...  \n",
      "7             76:83  sometimes i get bad food and bad service, some...  \n",
      "8             38:46  This place has the best Chinese style BBQ ribs...  \n",
      "9              6:11         Great place to relax and enjoy your dinner  \n",
      "10            73:92  The bread we received was horrible - rock hard...  \n",
      "11            67:72  We thought that this place is using too much o...  \n",
      "12            12:18     Always good drinks and service is pretty good;  \n",
      "13          157:162  We are very particular about sushi and were bo...  \n",
      "14             4:18  The Prix Fixe menu is worth every penny and yo...  \n",
      "15            11:19  We had the scallops as an appetizer and they w...  \n",
      "16              0:8  Ambience is so cute and quaint, good for busin...  \n",
      "17            34:55  But the best part about LS is the late night a...  \n",
      "18            22:32  The dessert (we had a pear torte) was good - b...  \n",
      "19            70:90  The pesto pizza was excellent, thin-crust pizz...  \n",
      "20            34:39  I had fish and my husband had the filet - both...  \n",
      "21             3:13  My quesadilla tasted like it had been made by ...  \n",
      "22             5:10                     This place is incredibly tiny.  \n",
      "23            12:16  I found the food to be outstanding, particular...  \n",
      "24              0:7                  Service was prompt and courteous.  \n",
      "25            10:16  delicious bagels, especially when right out of...  \n",
      "26            20:30  I have never left a restaurant feeling as if i...  \n",
      "27          103:115  My husband said he could've eaten several more...  \n",
      "28            21:32  I also recommend the rice dishes or the differ...  \n",
      "29            55:63  I highly recommend Cafe St. Bart's for their f...  \n"
     ]
    }
   ],
   "source": [
    "print(train_df.head(30))"
   ]
  },
  {
   "cell_type": "code",
   "execution_count": null,
   "metadata": {},
   "outputs": [],
   "source": []
  }
 ],
 "metadata": {
  "kernelspec": {
   "display_name": "Python 3",
   "language": "python",
   "name": "python3"
  },
  "language_info": {
   "codemirror_mode": {
    "name": "ipython",
    "version": 3
   },
   "file_extension": ".py",
   "mimetype": "text/x-python",
   "name": "python",
   "nbconvert_exporter": "python",
   "pygments_lexer": "ipython3",
   "version": "3.6.8"
  }
 },
 "nbformat": 4,
 "nbformat_minor": 2
}
